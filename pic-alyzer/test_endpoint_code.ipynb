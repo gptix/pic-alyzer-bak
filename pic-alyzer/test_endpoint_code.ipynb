{
 "cells": [
  {
   "cell_type": "markdown",
   "metadata": {},
   "source": [
    "# Experiment with code to interface between S3 and Classifier."
   ]
  },
  {
   "cell_type": "markdown",
   "metadata": {},
   "source": [
    "The package **json** might be required, depending on return values from call to classifier."
   ]
  },
  {
   "cell_type": "code",
   "execution_count": 15,
   "metadata": {},
   "outputs": [
    {
     "data": {
      "text/plain": [
       "{'images': [{'image_id': 2,\n",
       "   'image_url': 'https://michelangelostestbucket.s3.us-west-2.amazonaws.com/b46c5e2c17813f956df74118d60cfff7',\n",
       "   'category_id': 1}]}"
      ]
     },
     "execution_count": 15,
     "metadata": {},
     "output_type": "execute_result"
    }
   ],
   "source": [
    "import json\n",
    "\n",
    "test_single_image_msg = {\n",
    "    \"images\": [\n",
    "        {\n",
    "            \"image_id\": 2,\n",
    "            \"image_url\": \"https://michelangelostestbucket.s3.us-west-2.amazonaws.com/b46c5e2c17813f956df74118d60cfff7\",\n",
    "            \"category_id\": 1\n",
    "        }\n",
    "            ]\n",
    "}\n",
    "\n",
    "msg = test_single_image_msg\n",
    "msg"
   ]
  },
  {
   "cell_type": "markdown",
   "metadata": {},
   "source": [
    "## Experiment with **json** library functions."
   ]
  },
  {
   "cell_type": "code",
   "execution_count": 16,
   "metadata": {},
   "outputs": [
    {
     "data": {
      "text/plain": [
       "'{\"images\": [{\"image_id\": 2, \"image_url\": \"https://michelangelostestbucket.s3.us-west-2.amazonaws.com/b46c5e2c17813f956df74118d60cfff7\", \"category_id\": 1}]}'"
      ]
     },
     "execution_count": 16,
     "metadata": {},
     "output_type": "execute_result"
    }
   ],
   "source": [
    "msg_dumped = json.dumps(msg)\n",
    "msg_dumpedUntitled"
   ]
  },
  {
   "cell_type": "code",
   "execution_count": 18,
   "metadata": {},
   "outputs": [
    {
     "data": {
      "text/plain": [
       "{'images': [{'image_id': 2,\n",
       "   'image_url': 'https://michelangelostestbucket.s3.us-west-2.amazonaws.com/b46c5e2c17813f956df74118d60cfff7',\n",
       "   'category_id': 1}]}"
      ]
     },
     "execution_count": 18,
     "metadata": {},
     "output_type": "execute_result"
    }
   ],
   "source": [
    "msg_loaded = json.loads(msg_dumped)\n",
    "msg_loaded"
   ]
  },
  {
   "cell_type": "code",
   "execution_count": 19,
   "metadata": {},
   "outputs": [
    {
     "data": {
      "text/plain": [
       "True"
      ]
     },
     "execution_count": 19,
     "metadata": {},
     "output_type": "execute_result"
    }
   ],
   "source": [
    "msg == msg_loaded"
   ]
  },
  {
   "cell_type": "markdown",
   "metadata": {},
   "source": [
    "## Experiment with calling classifier on one image."
   ]
  },
  {
   "cell_type": "code",
   "execution_count": 25,
   "metadata": {},
   "outputs": [],
   "source": [
    "one_image = msg['images'][0]"
   ]
  },
  {
   "cell_type": "code",
   "execution_count": 60,
   "metadata": {},
   "outputs": [],
   "source": [
    "def image_pred(url):test_single_image_msg = {\n",
    "    \"images\": [\n",
    "        {\n",
    "            \"image_id\": 2,\n",
    "            \"image_url\": \"https://michelangelostestbucket.s3.us-west-2.amazonaws.com/b46c5e2c17813f956df74118d60cfff7\",\n",
    "            \"category_id\": 1\n",
    "        }\n",
    "            ]\n",
    "}\n",
    "    \"\"\"Dummy function to produce a fake result from classifier.\"\"\"\n",
    "    return ({'Frog' : 3})"
   ]
  },
  {
   "cell_type": "code",
   "execution_count": 61,
   "metadata": {},
   "outputs": [
    {
     "data": {
      "text/plain": [
       "{'image_id': 2, 'result': {'Frog': 3}}"
      ]
     },
     "execution_count": 61,
     "metadata": {},
     "output_type": "execute_result"
    }
   ],
   "source": [
    "def image_dict_to_response(image_dict):\n",
    "    \"\"\"Get prediction for one image, return in expected dict format.\"\"\"\n",
    "    return {'image_id' : image_dict['image_id'], \n",
    "            'result': image_pred(image_dict['image_url'])}\n",
    "\n",
    "image_dict_to_response(one_image)"
   ]
  },
  {
   "cell_type": "markdown",
   "metadata": {},
   "source": [
    "## Experiment with calling classifier on a batch (list of single image messages)."
   ]
  },
  {
   "cell_type": "code",
   "execution_count": 65,
   "metadata": {},
   "outputs": [
    {
     "data": {
      "text/plain": [
       "{'results': [{'image_id': 2, 'result': {'Frog': 3}}]}"
      ]
     },
     "execution_count": 65,
     "metadata": {},
     "output_type": "execute_result"
    }
   ],
   "source": [
    "def batch_to_response_set(batch):\n",
    "    \"\"\"Get predictions for a batch of images, return as JSON object\"\"\"\n",
    "    return {\n",
    "        'results' : \n",
    "        list(map(image_dict_to_response, batch['images']))\n",
    "                      }\n",
    "\n",
    "batch_to_response_set(test_single_image_msg)def image_dict_to_response(image_dict):\n",
    "    \"\"\"Get prediction for one image, return in expected dict format.\"\"\"\n",
    "    return {'image_id' : image_dict['image_id'], \n",
    "            'result': image_pred(image_dict['image_url'])}"
   ]
  },
  {
   "cell_type": "code",
   "execution_count": 63,
   "metadata": {},
   "outputs": [],
   "source": [
    "test_batch_msg = {\n",
    "    \"images\": [\n",
    "        {\n",
    "            \"image_id\": 2,\n",
    "            \"image_url\": \"https://michelangelostestbucket.s3.us-west-2.amazonaws.com/b46c5e2c17813f956df74118d60cfff7\",\n",
    "            \"category_id\": 1\n",
    "        },\n",
    "        {\n",
    "            \"image_id\": 42,\n",
    "            \"image_url\": \"https://michelangelostestbucket.s3.us-west-2.amazonaws.com/b46c5e2c17813f956df74118d60cfff8\",\n",
    "            \"category_id\": 13\n",
    "        }\n",
    "            ]        \n",
    "}"
   ]
  },
  {
   "cell_type": "code",
   "execution_count": 64,
   "metadata": {},
   "outputs": [
    {
     "data": {
      "text/plain": [
       "{'results': [{'image_id': 2, 'result': {'Frog': 3}},\n",
       "  {'image_id': 42, 'result': {'Frog': 3}}]}"
      ]
     },
     "execution_count": 64,
     "metadata": {},
     "output_type": "execute_result"
    }
   ],
   "source": [
    "batch_to_response_set(test_batch_msg)"
   ]
  },
  {
   "cell_type": "markdown",
   "metadata": {},
   "source": [
    "## Conclusion\n",
    "This code handles messages that encode image specs as a list (perhaps singleton) of image specs."
   ]
  },
  {
   "cell_type": "code",
   "execution_count": null,
   "metadata": {},
   "outputs": [],
   "source": []
  }
 ],
 "metadata": {
  "kernelspec": {
   "display_name": "Python 3",
   "language": "python",
   "name": "python3"
  },
  "language_info": {
   "codemirror_mode": {
    "name": "ipython",
    "version": 3
   },
   "file_extension": ".py",
   "mimetype": "text/x-python",
   "name": "python",
   "nbconvert_exporter": "python",
   "pygments_lexer": "ipython3",
   "version": "3.7.6"
  }
 },
 "nbformat": 4,
 "nbformat_minor": 4
}
